{
 "cells": [
  {
   "cell_type": "code",
   "execution_count": null,
   "id": "9e2577b2",
   "metadata": {},
   "outputs": [],
   "source": [
    "#instruction for user to exit program\n",
    "print(\"To stop the program enter 0\")\n",
    "\n",
    "#Get the user input for the times table \n",
    "myNumber = int(input(\"\\tPlease enter the number:\"))\n",
    "while myNumber > 0:\n",
    "    for i in range(2,21,2):\n",
    "        if myNumber == 0:\n",
    "            break\n",
    "        else:\n",
    "            print(f\"{i:3} times {myNumber:3} is {i*myNumber}\")\n",
    "            \n",
    "    myNumber = int(input(\"\\tPLease enter the number:\"))\n",
    "\n",
    "        "
   ]
  },
  {
   "cell_type": "code",
   "execution_count": null,
   "id": "0526f063",
   "metadata": {},
   "outputs": [],
   "source": [
    "#5. Using nested for loops to generate a right handed triangle\n",
    "numStars = 4 ;\n",
    "spaces = numStars - 1;     \n",
    "\n",
    "\n",
    "for i in range(1, numStars+1):  \n",
    "    for j in range(1, i+1):\n",
    "        print(spaces, end=\"*\")\n",
    "        spaces -=1\n",
    "    print()"
   ]
  },
  {
   "cell_type": "code",
   "execution_count": null,
   "id": "4e5493c9",
   "metadata": {},
   "outputs": [],
   "source": [
    "#5. Using nested for loops to generate a left handed triangle\n",
    "numStars = 4 ;\n",
    "spaces = numStars - 1;\n",
    "star= \"*\";\n",
    "\n",
    "\n",
    "for i in range(1, numStars+1):  \n",
    "    for j in range(1, i+1):\n",
    "        print(f\"{star:<2}\", end=\"\")\n",
    "    print()"
   ]
  },
  {
   "cell_type": "code",
   "execution_count": null,
   "id": "2568b6ce",
   "metadata": {},
   "outputs": [],
   "source": [
    "#Activity 4: Data Structures\n",
    "#LIFO Last in first out \n",
    "stack = [1,2,3];\n",
    "\n",
    "#push, pop, view\n",
    "number = int(input(\"Please Choose from the following \\n1. Push \\n2. Pop \\n3. View \\n4. Quit\\n\"))\n",
    "\n",
    "while number != 4:\n",
    "    if number == 1:\n",
    "    #do something\n",
    "        inputNumber = int(input(\"Please choose a number to add\"))\n",
    "        stack.append(inputNumber)\n",
    "        number = int(input(\"Please Choose from the following \\n1. Push \\n2. Pop \\n3. View \\n4. Quit\\n\"))\n",
    "    elif number == 2:\n",
    "    #do something else\n",
    "        stack.pop()\n",
    "        number = int(input(\"Please Choose from the following \\n1. Push \\n2. Pop \\n3. View \\n4. Quit\\n\"))\n",
    "    elif number == 3:\n",
    "    #do something\n",
    "        print(f\"{stack}\")\n",
    "        number = int(input(\"Please Choose from the following \\n1. Push \\n2. Pop \\n3. View \\n4. Quit\\n\"))\n",
    "    elif number == 4:\n",
    "    #do something\n",
    "        print(\"Quit\")\n",
    "        number = int(input(\"Please Choose from the following \\n1. Push \\n2. Pop \\n3. View \\n4. Quit\\n\"))\n",
    "    else:\n",
    "        print(\"Sorry this was not a recognised input\")\n",
    "        number = int(input(\"Please Choose from the following \\n1. Push \\n2. Pop \\n3. View \\n4. Quit\\n\"))\n",
    "\n"
   ]
  },
  {
   "cell_type": "code",
   "execution_count": null,
   "id": "5700756d",
   "metadata": {},
   "outputs": [
    {
     "name": "stdout",
     "output_type": "stream",
     "text": [
      "Please Choose from the following \n",
      "1. Push \n",
      "2. Pop \n",
      "3. View \n",
      "4. Quit\n",
      "3\n",
      "[1, 2, 3]\n",
      "Please Choose from the following \n",
      "1. Push \n",
      "2. Pop \n",
      "3. View \n",
      "4. Quit\n",
      "2\n",
      "Please Choose from the following \n",
      "1. Push \n",
      "2. Pop \n",
      "3. View \n",
      "4. Quit\n",
      "3\n",
      "[2, 3]\n"
     ]
    }
   ],
   "source": [
    "#FIFO Activity 4: data Structures \n",
    "queue = [1,2,3]\n",
    "\n",
    "number = int(input(\"Please Choose from the following \\n1. Push \\n2. Pop \\n3. View \\n4. Quit\\n\"))\n",
    "\n",
    "while number != 4: \n",
    "    if number == 1:\n",
    "        #do\n",
    "        inputNumber = int(input(\"Please choose a number to add\"))\n",
    "        queue.append(inputNumber)\n",
    "        number = int(input(\"Please Choose from the following \\n1. Push \\n2. Pop \\n3. View \\n4. Quit\\n\"))\n",
    "    elif number == 2:\n",
    "        #do\n",
    "        queue.pop(0)\n",
    "        number = int(input(\"Please Choose from the following \\n1. Push \\n2. Pop \\n3. View \\n4. Quit\\n\"))\n",
    "    elif number == 3:\n",
    "        #do\n",
    "        print(queue)\n",
    "        number = int(input(\"Please Choose from the following \\n1. Push \\n2. Pop \\n3. View \\n4. Quit\\n\"))\n",
    "    elif number == 4:\n",
    "        #do\n",
    "        number = int(input(\"Please Choose from the following \\n1. Push \\n2. Pop \\n3. View \\n4. Quit\\n\"))\n",
    "    else:\n",
    "        print(\"Sorry this was not a recognised input\")\n",
    "        number = int(input(\"Please Choose from the following \\n1. Push \\n2. Pop \\n3. View \\n4. Quit\\n\"))\n",
    "\n"
   ]
  },
  {
   "cell_type": "code",
   "execution_count": null,
   "id": "8f6a524a",
   "metadata": {},
   "outputs": [],
   "source": []
  }
 ],
 "metadata": {
  "kernelspec": {
   "display_name": "Python 3 (ipykernel)",
   "language": "python",
   "name": "python3"
  },
  "language_info": {
   "codemirror_mode": {
    "name": "ipython",
    "version": 3
   },
   "file_extension": ".py",
   "mimetype": "text/x-python",
   "name": "python",
   "nbconvert_exporter": "python",
   "pygments_lexer": "ipython3",
   "version": "3.9.7"
  }
 },
 "nbformat": 4,
 "nbformat_minor": 5
}
