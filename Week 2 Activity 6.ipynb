{
 "cells": [
  {
   "cell_type": "code",
   "execution_count": null,
   "id": "b3b8d8ef",
   "metadata": {},
   "outputs": [],
   "source": [
    "import json\n",
    "import pymongo\n",
    "\n",
    "client = pymongo.MongoClient(\"mongodb://localhost:27017/\")\n",
    "print(client.list_database_names())\n",
    "\n",
    "db = client[\"university\"]\n",
    "collection = db[\"People\"]\n",
    "\n",
    "with open('People.json') as file:\n",
    "    data = json.load(file)\n",
    "    for item in data[\"students\"]:\n",
    "        ins = collection.insert_one(item)\n",
    "        print(ins.inserted_id)\n",
    "\n",
    "results = collection.find({'age':{'$gt':25}},{'_id':0, 'fullName' : 1})\n",
    "for r in results:\n",
    "    print(r)\n",
    "\n",
    "noMiddleName = collection.find({'fullName.other':None}, {'_id': 1})\n",
    "for n in noMiddleName:\n",
    "    print(n)\n",
    "\n",
    "count = 0\n",
    "livesElsewhere = collection.find({ 'city': { '$not': {'$eq' : 'Tokyo' } } })\n",
    "for l in livesElsewhere:\n",
    "        count +=1\n",
    "print(count)"
   ]
  }
 ],
 "metadata": {
  "kernelspec": {
   "display_name": "Python 3 (ipykernel)",
   "language": "python",
   "name": "python3"
  },
  "language_info": {
   "codemirror_mode": {
    "name": "ipython",
    "version": 3
   },
   "file_extension": ".py",
   "mimetype": "text/x-python",
   "name": "python",
   "nbconvert_exporter": "python",
   "pygments_lexer": "ipython3",
   "version": "3.9.7"
  }
 },
 "nbformat": 4,
 "nbformat_minor": 5
}
